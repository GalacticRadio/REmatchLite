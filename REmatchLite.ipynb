{
 "cells": [
  {
   "cell_type": "markdown",
   "id": "75c9884e-38d9-45b4-a366-04db32e56b9c",
   "metadata": {},
   "source": [
    "# Welcome to REmatchLite!\n",
    "- This program allows users to experiment with the REmatch regex engine created by Reveros et al. without knowledge of the RegEx or REQL languages.\n",
    "- To use this notebook, you may need to install iPyWidgets with `pip install ipywidgets`\n",
    "- Additionally, you will likely need to install pyrematch with `pip install pyrematch`\n",
    "- If a given cell's GUI is not giving any output, rerun the cell manually. Using the \"restart the kernel and rerun all cells\" button seems to cause problems with iPyWidgets\n",
    "\n",
    "Tip: For a sample text file to use, Project Gutenberg is a great resource. Example: https://www.gutenberg.org/cache/epub/84/pg84.txt\n"
   ]
  },
  {
   "cell_type": "code",
   "execution_count": 4,
   "id": "f999b9f6-e8ad-45b0-a20e-823a7cbae7b3",
   "metadata": {},
   "outputs": [],
   "source": [
    "import ipywidgets as widgets\n",
    "import pyrematch as REmatch\n",
    "import codecs\n",
    "import re"
   ]
  },
  {
   "cell_type": "markdown",
   "id": "c6e536cd-8833-40f1-b56b-8da9e406d970",
   "metadata": {},
   "source": [
    "## Demonstration 1: Finding *all* Matches\n",
    "- The key benefit of using the REmatch RegEx engine is its **all-match semantics**\n",
    "- Typical RegEx engines do not get every possible match to the string you are looking for. If matches are overlapping, a decision will be made to keep one match and ignore the other\n",
    "- Below, you can compare a simple REmatch match to RegEx with a query of your choosing"
   ]
  },
  {
   "cell_type": "code",
   "execution_count": 5,
   "id": "d7fbfe0e-133d-437a-af78-e823ec51a6c3",
   "metadata": {},
   "outputs": [
    {
     "name": "stdout",
     "output_type": "stream",
     "text": [
      "Please enter a body of text to search:\n"
     ]
    },
    {
     "data": {
      "application/vnd.jupyter.widget-view+json": {
       "model_id": "faa28347d74f416f89aeaac3021af769",
       "version_major": 2,
       "version_minor": 0
      },
      "text/plain": [
       "Text(value='kayakayakayakayak', description='Examine:', placeholder='Type something...')"
      ]
     },
     "metadata": {},
     "output_type": "display_data"
    },
    {
     "name": "stdout",
     "output_type": "stream",
     "text": [
      "After that, please enter a string to search for within your body of text:\n"
     ]
    },
    {
     "data": {
      "application/vnd.jupyter.widget-view+json": {
       "model_id": "520e247801d94b85916e3aedaf06d515",
       "version_major": 2,
       "version_minor": 0
      },
      "text/plain": [
       "Text(value='kayak', description='Looking for:', placeholder='Type something...')"
      ]
     },
     "metadata": {},
     "output_type": "display_data"
    },
    {
     "data": {
      "application/vnd.jupyter.widget-view+json": {
       "model_id": "01a3f4f7854d4b98bc0d11f6cb229f98",
       "version_major": 2,
       "version_minor": 0
      },
      "text/plain": [
       "Button(description='Run Search!', style=ButtonStyle())"
      ]
     },
     "metadata": {},
     "output_type": "display_data"
    },
    {
     "data": {
      "application/vnd.jupyter.widget-view+json": {
       "model_id": "20e9fea923bb45c1a5382ba0f510303d",
       "version_major": 2,
       "version_minor": 0
      },
      "text/plain": [
       "Output(layout=Layout(border_bottom='1px solid black', border_left='1px solid black', border_right='1px solid b…"
      ]
     },
     "metadata": {},
     "output_type": "display_data"
    }
   ],
   "source": [
    "documentEntry = (widgets.Text(\n",
    "    value=\"kayakayakayakayak\",\n",
    "    placeholder='Type something...',\n",
    "    description='Examine:',\n",
    "    disabled=False   \n",
    "))\n",
    "print(\"Please enter a body of text to search:\")\n",
    "display(documentEntry)\n",
    "patternEntry = (widgets.Text(\n",
    "    value=\"kayak\",\n",
    "    placeholder='Type something...',\n",
    "    description='Looking for:',\n",
    "    disabled=False   \n",
    "))\n",
    "print(\"After that, please enter a string to search for within your body of text:\")\n",
    "display(patternEntry)\n",
    "\n",
    "def get_results():\n",
    "    # Formulate a REmatch query\n",
    "    pattern = \"!x{\"+patternEntry.value+\"}\"\n",
    "    query = REmatch.reql(pattern)\n",
    "    print(\"Searching for pattern...\")\n",
    "    rematch_iter = query.finditer(documentEntry.value)\n",
    "    rematch_results = [match.group('x') for match in rematch_iter]\n",
    "    \n",
    "    print(\"REmatch found \" + str(len(rematch_results)) + \" results: \" + str(rematch_results))\n",
    "\n",
    "    # Formulate a standard RegEx query\n",
    "    standard_pattern = patternEntry.value\n",
    "    standard_results = re.findall(standard_pattern, documentEntry.value)\n",
    "    print(\"Standard RegEx found \" + str(len(standard_results)) + \" results: \" + str(standard_results))\n",
    "\n",
    "button = widgets.Button(description=\"Run Search!\")\n",
    "output = widgets.Output(\n",
    "    layout={'border': '1px solid black', 'padding': '24px'}\n",
    ")\n",
    "\n",
    "display(button, output)\n",
    "\n",
    "def on_button_clicked(b):\n",
    "    with output:\n",
    "        print(\"RESULTS:\")\n",
    "        get_results()\n",
    "\n",
    "button.on_click(on_button_clicked)"
   ]
  },
  {
   "cell_type": "markdown",
   "id": "35bad759-0b7e-4b6f-b3a3-546efc3e29c4",
   "metadata": {},
   "source": [
    "## Demonstration 2: Searching for words with a given prefix *and* the context in which the word was used.\n",
    "- RegEx typically uses a leftmost-longest strategy for matching. This means it throws away any matches that overlap with each other, except for the match that is the furthest to the left and longest.\n",
    "- Because overlapping matches are thrown away, it is difficult to have a standard RegEx engine grab a desired string *and* the context in which that string appeared--the desired string and the context overlap each other. This is true even with the use of lookahead operators.\n",
    "- Finding surrounding context can be beneficial. For example, suppose you are a linguist looking for examples of a particular prefix or word root in literature. Extracting surrounding sentences, instead of just the word itself, can be beneficial. Try it below!"
   ]
  },
  {
   "cell_type": "code",
   "execution_count": 6,
   "id": "d346bed4-bf53-40a1-8cfe-1631d35bf5a8",
   "metadata": {},
   "outputs": [
    {
     "name": "stdout",
     "output_type": "stream",
     "text": [
      "Please select a file to search:\n"
     ]
    },
    {
     "data": {
      "application/vnd.jupyter.widget-view+json": {
       "model_id": "ef1db31b18cd4b3ba05c52d7b4fdae9b",
       "version_major": 2,
       "version_minor": 0
      },
      "text/plain": [
       "FileUpload(value=(), accept='.txt', description='Select a text file:')"
      ]
     },
     "metadata": {},
     "output_type": "display_data"
    },
    {
     "name": "stdout",
     "output_type": "stream",
     "text": [
      "After that, please enter a prefix to search for within your selected file:\n"
     ]
    },
    {
     "data": {
      "application/vnd.jupyter.widget-view+json": {
       "model_id": "e147eaa6d5a54f32a227f8e03a67ed68",
       "version_major": 2,
       "version_minor": 0
      },
      "text/plain": [
       "Text(value='', placeholder='Type something...')"
      ]
     },
     "metadata": {},
     "output_type": "display_data"
    },
    {
     "data": {
      "application/vnd.jupyter.widget-view+json": {
       "model_id": "deae0a03512643dfad7b7ce826a0f326",
       "version_major": 2,
       "version_minor": 0
      },
      "text/plain": [
       "Button(description='Run Search!', style=ButtonStyle())"
      ]
     },
     "metadata": {},
     "output_type": "display_data"
    },
    {
     "data": {
      "application/vnd.jupyter.widget-view+json": {
       "model_id": "7fc6058bbedc4274bc1565767a667a00",
       "version_major": 2,
       "version_minor": 0
      },
      "text/plain": [
       "Output(layout=Layout(border_bottom='1px solid black', border_left='1px solid black', border_right='1px solid b…"
      ]
     },
     "metadata": {},
     "output_type": "display_data"
    }
   ],
   "source": [
    "uploader = widgets.FileUpload(\n",
    "    description=\"Select a text file:\",\n",
    "    accept='.txt'\n",
    ")\n",
    "print(\"Please select a file to search:\")\n",
    "display(uploader)\n",
    "wordEntry = (widgets.Text(\n",
    "    placeholder='Type something...',\n",
    "    disabled=False   \n",
    "))\n",
    "print(\"After that, please enter a prefix to search for within your selected file:\")\n",
    "display(wordEntry)\n",
    "\n",
    "def get_results():\n",
    "    fileContent = \"\"\n",
    "    try:\n",
    "        uploaded_file = uploader.value[0]\n",
    "        fileContent = codecs.decode(uploaded_file.content, encoding=\"utf-8\").replace(\"\\n\", \" \").replace(\"\\r\", \"\")\n",
    "    except:\n",
    "        print(\"No File Chosen! Using sample excerpt from Jack London's White Fang.\")\n",
    "        fileContent = \"Dark spruce forest frowned on either side the frozen waterway. The trees had been stripped by a recent wind of their white covering of frost, and they seemed to lean towards each other, black and ominous, in the fading light. A vast silence reigned over the land. The land itself was a desolation, lifeless, without movement, so lone and cold that the spirit of it was not even that of sadness. There was a hint in it of laughter, but of a laughter more terrible than any sadness—a laughter that was mirthless as the smile of the sphinx, a laughter cold as the frost and partaking of the grimness of infallibility. It was the masterful and incommunicable wisdom of eternity laughing at the futility of life and the effort of life. It was the Wild, the savage, frozen-hearted Northland Wild..\"\n",
    "    prefix = wordEntry.value\n",
    "    if prefix == \"\":\n",
    "        print(\"No Prefix Chosen! Using sample prefix 'Tree'.\\n---\")\n",
    "        prefix = \"tree\"\n",
    "    # Formulate a query\n",
    "    pattern = \"(^|(\\.))!sent{[^.]* !w1{\"+prefix+\"\\w+}( [^.]*)?\\.}\"\n",
    "    query = REmatch.reql(pattern)\n",
    "    # Execute the query and print the results\n",
    "    for match in query.finditer(fileContent):\n",
    "        word = match.group('w1')\n",
    "        sentence = match.group('sent')\n",
    "        print(f\"The word '{word}' appears in the following sentence:\\n {sentence}\")\n",
    "        print(\"\\n----------------------------------------------------------\")\n",
    "\n",
    "button = widgets.Button(description=\"Run Search!\")\n",
    "output = widgets.Output(\n",
    "    layout={'border': '1px solid black', 'padding': '24px'}\n",
    ")\n",
    "\n",
    "display(button, output)\n",
    "\n",
    "def on_button_clicked(b):\n",
    "    with output:\n",
    "        print(\"RESULTS:\")\n",
    "        get_results()\n",
    "\n",
    "button.on_click(on_button_clicked)"
   ]
  },
  {
   "cell_type": "code",
   "execution_count": null,
   "id": "5b59f6cd-c27a-4d0b-906a-850859c5994b",
   "metadata": {},
   "outputs": [],
   "source": []
  }
 ],
 "metadata": {
  "kernelspec": {
   "display_name": "Python 3 (ipykernel)",
   "language": "python",
   "name": "python3"
  },
  "language_info": {
   "codemirror_mode": {
    "name": "ipython",
    "version": 3
   },
   "file_extension": ".py",
   "mimetype": "text/x-python",
   "name": "python",
   "nbconvert_exporter": "python",
   "pygments_lexer": "ipython3",
   "version": "3.11.5"
  }
 },
 "nbformat": 4,
 "nbformat_minor": 5
}
